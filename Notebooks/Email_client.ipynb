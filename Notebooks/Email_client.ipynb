{
  "nbformat": 4,
  "nbformat_minor": 0,
  "metadata": {
    "colab": {
      "provenance": [],
      "authorship_tag": "ABX9TyOSPMCyhimdmFfpmePJaI31",
      "include_colab_link": true
    },
    "kernelspec": {
      "name": "python3",
      "display_name": "Python 3"
    },
    "language_info": {
      "name": "python"
    }
  },
  "cells": [
    {
      "cell_type": "markdown",
      "metadata": {
        "id": "view-in-github",
        "colab_type": "text"
      },
      "source": [
        "<a href=\"https://colab.research.google.com/github/Swamp-Solutions/Litter-buster/blob/dev-aendraes/Notebooks/Email_client.ipynb\" target=\"_parent\"><img src=\"https://colab.research.google.com/assets/colab-badge.svg\" alt=\"Open In Colab\"/></a>"
      ]
    },
    {
      "cell_type": "markdown",
      "source": [
        "# Construct Email-client\n",
        "We want to have an email client to alert us if our model detects any litterers. \n",
        "\n",
        "---\n",
        "---\n",
        "\n"
      ],
      "metadata": {
        "id": "BpnyNL_4CJMe"
      }
    },
    {
      "cell_type": "markdown",
      "source": [
        "### 1. Imports"
      ],
      "metadata": {
        "id": "ZvVS2rvBD_iP"
      }
    },
    {
      "cell_type": "code",
      "execution_count": null,
      "metadata": {
        "id": "kB1jt7yzBHIz"
      },
      "outputs": [],
      "source": [
        "from email.mime import multipart \n",
        "import os \n",
        "import smtplib\n",
        "from email.mime.text import MIMEText\n",
        "from email.mime.multipart import MIMEMultipart\n",
        "from email.mime.base import MIMEBase\n",
        "from email.mime.image import MIMEImage # to accomodate image attachment\n",
        "from email import encoders\n",
        "import torch\n",
        "from datetime import datetime as dt, timedelta as td\n",
        "import PIL.Image as Image\n",
        "import numpy as np\n",
        "import matplotlib.pyplot as plt\n",
        "%matplotlib inline"
      ]
    },
    {
      "cell_type": "markdown",
      "source": [
        "### 2. Initialize working environment\n",
        "Create the folder and file structure that is necessary for the functions."
      ],
      "metadata": {
        "id": "ZcSKyv1kIw9O"
      }
    },
    {
      "cell_type": "code",
      "source": [
        "def initialize():\n",
        "  if not os.path.exists('./Images'):\n",
        "    os.makedirs('./Images/originals')\n",
        "    os.makedirs('./Images/results')\n",
        "  if not os.path.exists('./Images/results/log.txt'):\n",
        "    with open('./Images/results/log.txt', 'w') as f: f.write('')\n",
        "  return False\n",
        "initialize()"
      ],
      "metadata": {
        "colab": {
          "base_uri": "https://localhost:8080/"
        },
        "id": "N5OSiQbBIvcq",
        "outputId": "13f38365-a1c6-42fe-dd49-b1d20d970f41"
      },
      "execution_count": null,
      "outputs": [
        {
          "output_type": "execute_result",
          "data": {
            "text/plain": [
              "False"
            ]
          },
          "metadata": {},
          "execution_count": 73
        }
      ]
    },
    {
      "cell_type": "markdown",
      "source": [
        "### 2. Mail client\n",
        "Basically a simple email smtp python-client. These can be found anywhere."
      ],
      "metadata": {
        "id": "WsVUVJlFDwmM"
      }
    },
    {
      "cell_type": "code",
      "source": [
        "def send_mail(uname,pwd,text=\"Culprit detected!!\", subject=\"Capture\",from_email= None,to_emails=None, html=None,attachment=None,):\n",
        "    assert isinstance(to_emails, list)\n",
        "    msg = MIMEMultipart()\n",
        "    msg['From'] = str(from_email)\n",
        "    msg['To'] = \", \".join(str(to_emails))\n",
        "    msg['Subject'] = subject\n",
        "\n",
        "    # reading the image\n",
        "    with open(attachment, 'rb') as f:\n",
        "        img_data = f.read()\n",
        "\n",
        "    txt_part = MIMEText(text, 'plain')\n",
        "    msg.attach(txt_part)\n",
        "    image = MIMEImage(img_data, name=os.path.basename(attachment)) \n",
        "    msg.attach(image)\n",
        "    msg_str = msg.as_string()\n",
        "    \n",
        "    # server side coding\n",
        "    server = smtplib.SMTP(host='smtp.gmail.com',port=587)\n",
        "    server.ehlo()\n",
        "    server.starttls()\n",
        "    server.login(uname, pwd)\n",
        "    server.sendmail(from_email,list(to_emails),msg_str)\n",
        "    server.quit() # quits the server\n",
        "\n",
        "# send_mail(\"aendraes@gmail.com\",\"hutwnwiqwukfrspz\",to_emails=['aendraes@gmail.com', 'helenalbandak@gmail.com', 'mcvk1991@gmail.com'],from_email='aendraes@gmail.com', attachment=\"square-square-in-a-square.jpg\") #note that we need pass the mail as a list data type\n",
        "\n"
      ],
      "metadata": {
        "id": "09OAn6SDCIJd"
      },
      "execution_count": null,
      "outputs": []
    },
    {
      "cell_type": "markdown",
      "source": [
        "### 3. Create a model predict/email function.\n",
        "We need something that takes as input an image, tests it against the model, checks if there are any results and if there are, save the file, and runs the email client with the picture as an attachement. \\\n",
        "The function also needs to check if the directories exist, and if they don't, create them.\n",
        "We may additionally want to store a logfile to set a time limit between mails in the case of video capture. \\\n",
        "For a cleaner look I'll just create a function to handle the timestamps too"
      ],
      "metadata": {
        "id": "jbwLsAmgD86g"
      }
    },
    {
      "cell_type": "code",
      "source": [
        "\n",
        "def gettime(getter=True, **kwargs):\n",
        "  if getter:\n",
        "    with open(\"./Images/results/log.txt\", 'r') as f:\n",
        "\n",
        "      if latest:=f.readlines():\n",
        "        latest=latest[-1] \n",
        "        if dt.strptime(latest.strip(), \"%m-%d-%Y-%H-%M-%S\") <= dt.now() - td(**kwargs): \n",
        "          return True\n",
        "        else:\n",
        "          return False\n",
        "      return True\n",
        "  if not getter:\n",
        "    with open(\"./Images/results/log.txt\", \"a\") as f:\n",
        "      f.write(dt.now().strftime(\"%m-%d-%Y-%H-%M-%S\")+'\\n')\n",
        "      return False\n",
        "\n",
        "def check_model_send_mail(imgpath='', img=None):\n",
        "  if imgpath and not img:\n",
        "    img = Image.open(imgpath)\n",
        "  model = torch.hub.load('ultralytics/yolov5', 'custom', path='best.pt', force_reload=True)\n",
        "  results = model(img)\n",
        "  if results and gettime(hours=4):\n",
        "    print(type(np.squeeze(results.render())))\n",
        "    plt.imshow(np.squeeze(results.render()))\n",
        "    img = Image.fromarray(np.squeeze(results.render()))\n",
        "    fpath = './Images/results/' + dt.now().strftime(\"%m-%d-%Y-%H-%M-%S\")+'.jpg'\n",
        "    img.save(fpath)\n",
        "    gettime(False)\n",
        "    send_mail(\"aendraes@gmail.com\",\"hutwnwiqwukfrspz\",to_emails=['aendraes@gmail.com'],from_email='aendraes@gmail.com', attachment=fpath, text=dt.now().strftime(\"%m-%d-%Y-%H-%M-%S\"), subject=\"Litter-Buster Alert!\")\n",
        "  return None\n",
        "# timestamps(get=True, hours=-4)\n",
        "check_model_send_mail('smokers.jpg')"
      ],
      "metadata": {
        "colab": {
          "base_uri": "https://localhost:8080/"
        },
        "id": "DQYdo30DE2-q",
        "outputId": "186fed90-49ec-4edb-85f4-3860e1bfb9ac"
      },
      "execution_count": null,
      "outputs": [
        {
          "output_type": "stream",
          "name": "stderr",
          "text": [
            "Downloading: \"https://github.com/ultralytics/yolov5/zipball/master\" to /root/.cache/torch/hub/master.zip\n",
            "YOLOv5 🚀 2023-2-7 Python-3.8.10 torch-1.13.1+cu116 CPU\n",
            "\n",
            "Fusing layers... \n",
            "Model summary: 157 layers, 7053277 parameters, 0 gradients\n",
            "Adding AutoShape... \n"
          ]
        }
      ]
    }
  ]
}